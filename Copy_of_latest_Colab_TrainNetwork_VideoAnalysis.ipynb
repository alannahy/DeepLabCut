{
  "cells": [
    {
      "cell_type": "markdown",
      "metadata": {
        "id": "view-in-github",
        "colab_type": "text"
      },
      "source": [
        "<a href=\"https://colab.research.google.com/github/alannahy/DeepLabCut/blob/main/Copy_of_latest_Colab_TrainNetwork_VideoAnalysis.ipynb\" target=\"_parent\"><img src=\"https://colab.research.google.com/assets/colab-badge.svg\" alt=\"Open In Colab\"/></a>"
      ]
    },
    {
      "cell_type": "markdown",
      "metadata": {
        "id": "RK255E7YoEIt"
      },
      "source": [
        "# DeepLabCut Toolbox - Colab for standard (single animal) projects!\n",
        "\n",
        "Some useful links:\n",
        "\n",
        "- [DeepLabCut's GitHub: github.com/DeepLabCut/DeepLabCut](https://github.com/DeepLabCut/DeepLabCut)\n",
        "- [DeepLabCut's Documentation: User Guide for Single Animal projects](https://deeplabcut.github.io/DeepLabCut/docs/standardDeepLabCut_UserGuide.html)\n",
        "\n",
        "\n",
        "This notebook illustrates how to use the cloud to:\n",
        "- create a training set\n",
        "- train a network\n",
        "- evaluate a network\n",
        "- create simple quality check plots\n",
        "- analyze novel videos!\n",
        "\n",
        "### This notebook assumes you already have a project folder with labeled data!\n",
        "\n",
        "This notebook demonstrates the necessary steps to use DeepLabCut for your own project.\n",
        "\n",
        "This shows the most simple code to do so, but many of the functions have additional features, so please check out the overview & the protocol paper!\n",
        "\n",
        "Nath\\*, Mathis\\* et al.: Using DeepLabCut for markerless pose estimation during behavior across species. Nature Protocols, 2019.\n",
        "\n",
        "\n",
        "Paper: https://www.nature.com/articles/s41596-019-0176-0\n",
        "\n",
        "Pre-print: https://www.biorxiv.org/content/biorxiv/early/2018/11/24/476531.full.pdf\n"
      ]
    },
    {
      "cell_type": "markdown",
      "metadata": {
        "id": "txoddlM8hLKm"
      },
      "source": [
        "## First, go to \"Runtime\" ->\"change runtime type\"->select \"Python3\", and then select \"GPU\"\n",
        "\n",
        "As the COLAB environments were updated to CUDA 12.X and Python 3.11, we need to install DeepLabCut and TensorFlow in a distinct way to get TensorFlow to connect to the GPU."
      ]
    },
    {
      "cell_type": "code",
      "execution_count": 1,
      "metadata": {
        "id": "qfwkxcojwHo9",
        "outputId": "2ee9a3af-49e1-4e37-dc5f-7d2b098a0501",
        "colab": {
          "base_uri": "https://localhost:8080/",
          "height": 1000
        }
      },
      "outputs": [
        {
          "output_type": "stream",
          "name": "stdout",
          "text": [
            "Collecting deeplabcut\n",
            "  Downloading deeplabcut-3.0.0rc8-py3-none-any.whl.metadata (29 kB)\n",
            "Collecting albumentations<=1.4.3 (from deeplabcut)\n",
            "  Downloading albumentations-1.4.3-py3-none-any.whl.metadata (37 kB)\n",
            "Collecting dlclibrary>=0.0.7 (from deeplabcut)\n",
            "  Downloading dlclibrary-0.0.7-py3-none-any.whl.metadata (4.2 kB)\n",
            "Requirement already satisfied: einops in /usr/local/lib/python3.11/dist-packages (from deeplabcut) (0.8.1)\n",
            "Collecting filterpy>=1.4.4 (from deeplabcut)\n",
            "  Downloading filterpy-1.4.5.zip (177 kB)\n",
            "\u001b[2K     \u001b[90m━━━━━━━━━━━━━━━━━━━━━━━━━━━━━━━━━━━━━━━\u001b[0m \u001b[32m178.0/178.0 kB\u001b[0m \u001b[31m8.6 MB/s\u001b[0m eta \u001b[36m0:00:00\u001b[0m\n",
            "\u001b[?25h  Preparing metadata (setup.py) ... \u001b[?25l\u001b[?25hdone\n",
            "Collecting ruamel.yaml>=0.15.0 (from deeplabcut)\n",
            "  Downloading ruamel.yaml-0.18.10-py3-none-any.whl.metadata (23 kB)\n",
            "Collecting imgaug>=0.4.0 (from deeplabcut)\n",
            "  Downloading imgaug-0.4.0-py2.py3-none-any.whl.metadata (1.8 kB)\n",
            "Requirement already satisfied: imageio-ffmpeg in /usr/local/lib/python3.11/dist-packages (from deeplabcut) (0.6.0)\n",
            "Requirement already satisfied: numba>=0.54 in /usr/local/lib/python3.11/dist-packages (from deeplabcut) (0.60.0)\n",
            "Collecting matplotlib!=3.7.0,!=3.7.1,<3.9,>=3.3 (from deeplabcut)\n",
            "  Downloading matplotlib-3.8.4-cp311-cp311-manylinux_2_17_x86_64.manylinux2014_x86_64.whl.metadata (5.8 kB)\n",
            "Requirement already satisfied: networkx>=2.6 in /usr/local/lib/python3.11/dist-packages (from deeplabcut) (3.4.2)\n",
            "Collecting numpy<2.0.0,>=1.18.5 (from deeplabcut)\n",
            "  Downloading numpy-1.26.4-cp311-cp311-manylinux_2_17_x86_64.manylinux2014_x86_64.whl.metadata (61 kB)\n",
            "\u001b[2K     \u001b[90m━━━━━━━━━━━━━━━━━━━━━━━━━━━━━━━━━━━━━━━━\u001b[0m \u001b[32m61.0/61.0 kB\u001b[0m \u001b[31m2.7 MB/s\u001b[0m eta \u001b[36m0:00:00\u001b[0m\n",
            "\u001b[?25hRequirement already satisfied: pandas!=1.5.0,>=1.0.1 in /usr/local/lib/python3.11/dist-packages (from deeplabcut) (2.2.2)\n",
            "Requirement already satisfied: scikit-image>=0.17 in /usr/local/lib/python3.11/dist-packages (from deeplabcut) (0.25.2)\n",
            "Requirement already satisfied: scikit-learn>=1.0 in /usr/local/lib/python3.11/dist-packages (from deeplabcut) (1.6.1)\n",
            "Requirement already satisfied: scipy>=1.9 in /usr/local/lib/python3.11/dist-packages (from deeplabcut) (1.15.2)\n",
            "Requirement already satisfied: statsmodels>=0.11 in /usr/local/lib/python3.11/dist-packages (from deeplabcut) (0.14.4)\n",
            "Collecting tables==3.8.0 (from deeplabcut)\n",
            "  Downloading tables-3.8.0-cp311-cp311-manylinux_2_17_x86_64.manylinux2014_x86_64.whl.metadata (2.2 kB)\n",
            "Requirement already satisfied: timm in /usr/local/lib/python3.11/dist-packages (from deeplabcut) (1.0.15)\n",
            "Requirement already satisfied: torch>=2.0.0 in /usr/local/lib/python3.11/dist-packages (from deeplabcut) (2.6.0+cu124)\n",
            "Requirement already satisfied: torchvision in /usr/local/lib/python3.11/dist-packages (from deeplabcut) (0.21.0+cu124)\n",
            "Requirement already satisfied: tqdm in /usr/local/lib/python3.11/dist-packages (from deeplabcut) (4.67.1)\n",
            "Requirement already satisfied: pycocotools in /usr/local/lib/python3.11/dist-packages (from deeplabcut) (2.0.8)\n",
            "Requirement already satisfied: pyyaml in /usr/local/lib/python3.11/dist-packages (from deeplabcut) (6.0.2)\n",
            "Requirement already satisfied: Pillow>=7.1 in /usr/local/lib/python3.11/dist-packages (from deeplabcut) (11.2.1)\n",
            "Requirement already satisfied: cython>=0.29.21 in /usr/local/lib/python3.11/dist-packages (from tables==3.8.0->deeplabcut) (3.0.12)\n",
            "Requirement already satisfied: numexpr>=2.6.2 in /usr/local/lib/python3.11/dist-packages (from tables==3.8.0->deeplabcut) (2.10.2)\n",
            "Collecting blosc2~=2.0.0 (from tables==3.8.0->deeplabcut)\n",
            "  Downloading blosc2-2.0.0-cp311-cp311-manylinux_2_17_x86_64.manylinux2014_x86_64.whl.metadata (11 kB)\n",
            "Requirement already satisfied: packaging in /usr/local/lib/python3.11/dist-packages (from tables==3.8.0->deeplabcut) (24.2)\n",
            "Requirement already satisfied: py-cpuinfo in /usr/local/lib/python3.11/dist-packages (from tables==3.8.0->deeplabcut) (9.0.0)\n",
            "Requirement already satisfied: typing-extensions>=4.9.0 in /usr/local/lib/python3.11/dist-packages (from albumentations<=1.4.3->deeplabcut) (4.13.2)\n",
            "Requirement already satisfied: opencv-python-headless>=4.9.0 in /usr/local/lib/python3.11/dist-packages (from albumentations<=1.4.3->deeplabcut) (4.11.0.86)\n",
            "Requirement already satisfied: huggingface-hub in /usr/local/lib/python3.11/dist-packages (from dlclibrary>=0.0.7->deeplabcut) (0.30.2)\n",
            "Requirement already satisfied: six in /usr/local/lib/python3.11/dist-packages (from imgaug>=0.4.0->deeplabcut) (1.17.0)\n",
            "Requirement already satisfied: opencv-python in /usr/local/lib/python3.11/dist-packages (from imgaug>=0.4.0->deeplabcut) (4.11.0.86)\n",
            "Requirement already satisfied: imageio in /usr/local/lib/python3.11/dist-packages (from imgaug>=0.4.0->deeplabcut) (2.37.0)\n",
            "Requirement already satisfied: Shapely in /usr/local/lib/python3.11/dist-packages (from imgaug>=0.4.0->deeplabcut) (2.1.0)\n",
            "Requirement already satisfied: contourpy>=1.0.1 in /usr/local/lib/python3.11/dist-packages (from matplotlib!=3.7.0,!=3.7.1,<3.9,>=3.3->deeplabcut) (1.3.2)\n",
            "Requirement already satisfied: cycler>=0.10 in /usr/local/lib/python3.11/dist-packages (from matplotlib!=3.7.0,!=3.7.1,<3.9,>=3.3->deeplabcut) (0.12.1)\n",
            "Requirement already satisfied: fonttools>=4.22.0 in /usr/local/lib/python3.11/dist-packages (from matplotlib!=3.7.0,!=3.7.1,<3.9,>=3.3->deeplabcut) (4.57.0)\n",
            "Requirement already satisfied: kiwisolver>=1.3.1 in /usr/local/lib/python3.11/dist-packages (from matplotlib!=3.7.0,!=3.7.1,<3.9,>=3.3->deeplabcut) (1.4.8)\n",
            "Requirement already satisfied: pyparsing>=2.3.1 in /usr/local/lib/python3.11/dist-packages (from matplotlib!=3.7.0,!=3.7.1,<3.9,>=3.3->deeplabcut) (3.2.3)\n",
            "Requirement already satisfied: python-dateutil>=2.7 in /usr/local/lib/python3.11/dist-packages (from matplotlib!=3.7.0,!=3.7.1,<3.9,>=3.3->deeplabcut) (2.9.0.post0)\n",
            "Requirement already satisfied: llvmlite<0.44,>=0.43.0dev0 in /usr/local/lib/python3.11/dist-packages (from numba>=0.54->deeplabcut) (0.43.0)\n",
            "Requirement already satisfied: pytz>=2020.1 in /usr/local/lib/python3.11/dist-packages (from pandas!=1.5.0,>=1.0.1->deeplabcut) (2025.2)\n",
            "Requirement already satisfied: tzdata>=2022.7 in /usr/local/lib/python3.11/dist-packages (from pandas!=1.5.0,>=1.0.1->deeplabcut) (2025.2)\n",
            "Collecting ruamel.yaml.clib>=0.2.7 (from ruamel.yaml>=0.15.0->deeplabcut)\n",
            "  Downloading ruamel.yaml.clib-0.2.12-cp311-cp311-manylinux_2_17_x86_64.manylinux2014_x86_64.whl.metadata (2.7 kB)\n",
            "Requirement already satisfied: tifffile>=2022.8.12 in /usr/local/lib/python3.11/dist-packages (from scikit-image>=0.17->deeplabcut) (2025.3.30)\n",
            "Requirement already satisfied: lazy-loader>=0.4 in /usr/local/lib/python3.11/dist-packages (from scikit-image>=0.17->deeplabcut) (0.4)\n",
            "Requirement already satisfied: joblib>=1.2.0 in /usr/local/lib/python3.11/dist-packages (from scikit-learn>=1.0->deeplabcut) (1.4.2)\n",
            "Requirement already satisfied: threadpoolctl>=3.1.0 in /usr/local/lib/python3.11/dist-packages (from scikit-learn>=1.0->deeplabcut) (3.6.0)\n",
            "Requirement already satisfied: patsy>=0.5.6 in /usr/local/lib/python3.11/dist-packages (from statsmodels>=0.11->deeplabcut) (1.0.1)\n",
            "Requirement already satisfied: filelock in /usr/local/lib/python3.11/dist-packages (from torch>=2.0.0->deeplabcut) (3.18.0)\n",
            "Requirement already satisfied: jinja2 in /usr/local/lib/python3.11/dist-packages (from torch>=2.0.0->deeplabcut) (3.1.6)\n",
            "Requirement already satisfied: fsspec in /usr/local/lib/python3.11/dist-packages (from torch>=2.0.0->deeplabcut) (2025.3.2)\n",
            "Collecting nvidia-cuda-nvrtc-cu12==12.4.127 (from torch>=2.0.0->deeplabcut)\n",
            "  Downloading nvidia_cuda_nvrtc_cu12-12.4.127-py3-none-manylinux2014_x86_64.whl.metadata (1.5 kB)\n",
            "Collecting nvidia-cuda-runtime-cu12==12.4.127 (from torch>=2.0.0->deeplabcut)\n",
            "  Downloading nvidia_cuda_runtime_cu12-12.4.127-py3-none-manylinux2014_x86_64.whl.metadata (1.5 kB)\n",
            "Collecting nvidia-cuda-cupti-cu12==12.4.127 (from torch>=2.0.0->deeplabcut)\n",
            "  Downloading nvidia_cuda_cupti_cu12-12.4.127-py3-none-manylinux2014_x86_64.whl.metadata (1.6 kB)\n",
            "Collecting nvidia-cudnn-cu12==9.1.0.70 (from torch>=2.0.0->deeplabcut)\n",
            "  Downloading nvidia_cudnn_cu12-9.1.0.70-py3-none-manylinux2014_x86_64.whl.metadata (1.6 kB)\n",
            "Collecting nvidia-cublas-cu12==12.4.5.8 (from torch>=2.0.0->deeplabcut)\n",
            "  Downloading nvidia_cublas_cu12-12.4.5.8-py3-none-manylinux2014_x86_64.whl.metadata (1.5 kB)\n",
            "Collecting nvidia-cufft-cu12==11.2.1.3 (from torch>=2.0.0->deeplabcut)\n",
            "  Downloading nvidia_cufft_cu12-11.2.1.3-py3-none-manylinux2014_x86_64.whl.metadata (1.5 kB)\n",
            "Collecting nvidia-curand-cu12==10.3.5.147 (from torch>=2.0.0->deeplabcut)\n",
            "  Downloading nvidia_curand_cu12-10.3.5.147-py3-none-manylinux2014_x86_64.whl.metadata (1.5 kB)\n",
            "Collecting nvidia-cusolver-cu12==11.6.1.9 (from torch>=2.0.0->deeplabcut)\n",
            "  Downloading nvidia_cusolver_cu12-11.6.1.9-py3-none-manylinux2014_x86_64.whl.metadata (1.6 kB)\n",
            "Collecting nvidia-cusparse-cu12==12.3.1.170 (from torch>=2.0.0->deeplabcut)\n",
            "  Downloading nvidia_cusparse_cu12-12.3.1.170-py3-none-manylinux2014_x86_64.whl.metadata (1.6 kB)\n",
            "Requirement already satisfied: nvidia-cusparselt-cu12==0.6.2 in /usr/local/lib/python3.11/dist-packages (from torch>=2.0.0->deeplabcut) (0.6.2)\n",
            "Requirement already satisfied: nvidia-nccl-cu12==2.21.5 in /usr/local/lib/python3.11/dist-packages (from torch>=2.0.0->deeplabcut) (2.21.5)\n",
            "Requirement already satisfied: nvidia-nvtx-cu12==12.4.127 in /usr/local/lib/python3.11/dist-packages (from torch>=2.0.0->deeplabcut) (12.4.127)\n",
            "Collecting nvidia-nvjitlink-cu12==12.4.127 (from torch>=2.0.0->deeplabcut)\n",
            "  Downloading nvidia_nvjitlink_cu12-12.4.127-py3-none-manylinux2014_x86_64.whl.metadata (1.5 kB)\n",
            "Requirement already satisfied: triton==3.2.0 in /usr/local/lib/python3.11/dist-packages (from torch>=2.0.0->deeplabcut) (3.2.0)\n",
            "Requirement already satisfied: sympy==1.13.1 in /usr/local/lib/python3.11/dist-packages (from torch>=2.0.0->deeplabcut) (1.13.1)\n",
            "Requirement already satisfied: mpmath<1.4,>=1.1.0 in /usr/local/lib/python3.11/dist-packages (from sympy==1.13.1->torch>=2.0.0->deeplabcut) (1.3.0)\n",
            "Requirement already satisfied: safetensors in /usr/local/lib/python3.11/dist-packages (from timm->deeplabcut) (0.5.3)\n",
            "Requirement already satisfied: msgpack in /usr/local/lib/python3.11/dist-packages (from blosc2~=2.0.0->tables==3.8.0->deeplabcut) (1.1.0)\n",
            "Requirement already satisfied: requests in /usr/local/lib/python3.11/dist-packages (from huggingface-hub->dlclibrary>=0.0.7->deeplabcut) (2.32.3)\n",
            "Requirement already satisfied: MarkupSafe>=2.0 in /usr/local/lib/python3.11/dist-packages (from jinja2->torch>=2.0.0->deeplabcut) (3.0.2)\n",
            "Requirement already satisfied: charset-normalizer<4,>=2 in /usr/local/lib/python3.11/dist-packages (from requests->huggingface-hub->dlclibrary>=0.0.7->deeplabcut) (3.4.1)\n",
            "Requirement already satisfied: idna<4,>=2.5 in /usr/local/lib/python3.11/dist-packages (from requests->huggingface-hub->dlclibrary>=0.0.7->deeplabcut) (3.10)\n",
            "Requirement already satisfied: urllib3<3,>=1.21.1 in /usr/local/lib/python3.11/dist-packages (from requests->huggingface-hub->dlclibrary>=0.0.7->deeplabcut) (2.4.0)\n",
            "Requirement already satisfied: certifi>=2017.4.17 in /usr/local/lib/python3.11/dist-packages (from requests->huggingface-hub->dlclibrary>=0.0.7->deeplabcut) (2025.4.26)\n",
            "Downloading deeplabcut-3.0.0rc8-py3-none-any.whl (2.1 MB)\n",
            "\u001b[2K   \u001b[90m━━━━━━━━━━━━━━━━━━━━━━━━━━━━━━━━━━━━━━━━\u001b[0m \u001b[32m2.1/2.1 MB\u001b[0m \u001b[31m39.7 MB/s\u001b[0m eta \u001b[36m0:00:00\u001b[0m\n",
            "\u001b[?25hDownloading tables-3.8.0-cp311-cp311-manylinux_2_17_x86_64.manylinux2014_x86_64.whl (6.5 MB)\n",
            "\u001b[2K   \u001b[90m━━━━━━━━━━━━━━━━━━━━━━━━━━━━━━━━━━━━━━━━\u001b[0m \u001b[32m6.5/6.5 MB\u001b[0m \u001b[31m21.7 MB/s\u001b[0m eta \u001b[36m0:00:00\u001b[0m\n",
            "\u001b[?25hDownloading albumentations-1.4.3-py3-none-any.whl (137 kB)\n",
            "\u001b[2K   \u001b[90m━━━━━━━━━━━━━━━━━━━━━━━━━━━━━━━━━━━━━━━━\u001b[0m \u001b[32m137.0/137.0 kB\u001b[0m \u001b[31m10.6 MB/s\u001b[0m eta \u001b[36m0:00:00\u001b[0m\n",
            "\u001b[?25hDownloading dlclibrary-0.0.7-py3-none-any.whl (16 kB)\n",
            "Downloading imgaug-0.4.0-py2.py3-none-any.whl (948 kB)\n",
            "\u001b[2K   \u001b[90m━━━━━━━━━━━━━━━━━━━━━━━━━━━━━━━━━━━━━━━━\u001b[0m \u001b[32m948.0/948.0 kB\u001b[0m \u001b[31m36.4 MB/s\u001b[0m eta \u001b[36m0:00:00\u001b[0m\n",
            "\u001b[?25hDownloading matplotlib-3.8.4-cp311-cp311-manylinux_2_17_x86_64.manylinux2014_x86_64.whl (11.6 MB)\n",
            "\u001b[2K   \u001b[90m━━━━━━━━━━━━━━━━━━━━━━━━━━━━━━━━━━━━━━━━\u001b[0m \u001b[32m11.6/11.6 MB\u001b[0m \u001b[31m60.1 MB/s\u001b[0m eta \u001b[36m0:00:00\u001b[0m\n",
            "\u001b[?25hDownloading numpy-1.26.4-cp311-cp311-manylinux_2_17_x86_64.manylinux2014_x86_64.whl (18.3 MB)\n",
            "\u001b[2K   \u001b[90m━━━━━━━━━━━━━━━━━━━━━━━━━━━━━━━━━━━━━━━━\u001b[0m \u001b[32m18.3/18.3 MB\u001b[0m \u001b[31m58.5 MB/s\u001b[0m eta \u001b[36m0:00:00\u001b[0m\n",
            "\u001b[?25hDownloading ruamel.yaml-0.18.10-py3-none-any.whl (117 kB)\n",
            "\u001b[2K   \u001b[90m━━━━━━━━━━━━━━━━━━━━━━━━━━━━━━━━━━━━━━━━\u001b[0m \u001b[32m117.7/117.7 kB\u001b[0m \u001b[31m9.5 MB/s\u001b[0m eta \u001b[36m0:00:00\u001b[0m\n",
            "\u001b[?25hDownloading nvidia_cublas_cu12-12.4.5.8-py3-none-manylinux2014_x86_64.whl (363.4 MB)\n",
            "\u001b[2K   \u001b[90m━━━━━━━━━━━━━━━━━━━━━━━━━━━━━━━━━━━━━━━━\u001b[0m \u001b[32m363.4/363.4 MB\u001b[0m \u001b[31m4.2 MB/s\u001b[0m eta \u001b[36m0:00:00\u001b[0m\n",
            "\u001b[?25hDownloading nvidia_cuda_cupti_cu12-12.4.127-py3-none-manylinux2014_x86_64.whl (13.8 MB)\n",
            "\u001b[2K   \u001b[90m━━━━━━━━━━━━━━━━━━━━━━━━━━━━━━━━━━━━━━━━\u001b[0m \u001b[32m13.8/13.8 MB\u001b[0m \u001b[31m117.9 MB/s\u001b[0m eta \u001b[36m0:00:00\u001b[0m\n",
            "\u001b[?25hDownloading nvidia_cuda_nvrtc_cu12-12.4.127-py3-none-manylinux2014_x86_64.whl (24.6 MB)\n",
            "\u001b[2K   \u001b[90m━━━━━━━━━━━━━━━━━━━━━━━━━━━━━━━━━━━━━━━━\u001b[0m \u001b[32m24.6/24.6 MB\u001b[0m \u001b[31m92.9 MB/s\u001b[0m eta \u001b[36m0:00:00\u001b[0m\n",
            "\u001b[?25hDownloading nvidia_cuda_runtime_cu12-12.4.127-py3-none-manylinux2014_x86_64.whl (883 kB)\n",
            "\u001b[2K   \u001b[90m━━━━━━━━━━━━━━━━━━━━━━━━━━━━━━━━━━━━━━━━\u001b[0m \u001b[32m883.7/883.7 kB\u001b[0m \u001b[31m52.8 MB/s\u001b[0m eta \u001b[36m0:00:00\u001b[0m\n",
            "\u001b[?25hDownloading nvidia_cudnn_cu12-9.1.0.70-py3-none-manylinux2014_x86_64.whl (664.8 MB)\n",
            "\u001b[2K   \u001b[90m━━━━━━━━━━━━━━━━━━━━━━━━━━━━━━━━━━━━━━━━\u001b[0m \u001b[32m664.8/664.8 MB\u001b[0m \u001b[31m1.7 MB/s\u001b[0m eta \u001b[36m0:00:00\u001b[0m\n",
            "\u001b[?25hDownloading nvidia_cufft_cu12-11.2.1.3-py3-none-manylinux2014_x86_64.whl (211.5 MB)\n",
            "\u001b[2K   \u001b[90m━━━━━━━━━━━━━━━━━━━━━━━━━━━━━━━━━━━━━━━━\u001b[0m \u001b[32m211.5/211.5 MB\u001b[0m \u001b[31m6.6 MB/s\u001b[0m eta \u001b[36m0:00:00\u001b[0m\n",
            "\u001b[?25hDownloading nvidia_curand_cu12-10.3.5.147-py3-none-manylinux2014_x86_64.whl (56.3 MB)\n",
            "\u001b[2K   \u001b[90m━━━━━━━━━━━━━━━━━━━━━━━━━━━━━━━━━━━━━━━━\u001b[0m \u001b[32m56.3/56.3 MB\u001b[0m \u001b[31m12.7 MB/s\u001b[0m eta \u001b[36m0:00:00\u001b[0m\n",
            "\u001b[?25hDownloading nvidia_cusolver_cu12-11.6.1.9-py3-none-manylinux2014_x86_64.whl (127.9 MB)\n",
            "\u001b[2K   \u001b[90m━━━━━━━━━━━━━━━━━━━━━━━━━━━━━━━━━━━━━━━━\u001b[0m \u001b[32m127.9/127.9 MB\u001b[0m \u001b[31m7.4 MB/s\u001b[0m eta \u001b[36m0:00:00\u001b[0m\n",
            "\u001b[?25hDownloading nvidia_cusparse_cu12-12.3.1.170-py3-none-manylinux2014_x86_64.whl (207.5 MB)\n",
            "\u001b[2K   \u001b[90m━━━━━━━━━━━━━━━━━━━━━━━━━━━━━━━━━━━━━━━━\u001b[0m \u001b[32m207.5/207.5 MB\u001b[0m \u001b[31m6.1 MB/s\u001b[0m eta \u001b[36m0:00:00\u001b[0m\n",
            "\u001b[?25hDownloading nvidia_nvjitlink_cu12-12.4.127-py3-none-manylinux2014_x86_64.whl (21.1 MB)\n",
            "\u001b[2K   \u001b[90m━━━━━━━━━━━━━━━━━━━━━━━━━━━━━━━━━━━━━━━━\u001b[0m \u001b[32m21.1/21.1 MB\u001b[0m \u001b[31m107.2 MB/s\u001b[0m eta \u001b[36m0:00:00\u001b[0m\n",
            "\u001b[?25hDownloading blosc2-2.0.0-cp311-cp311-manylinux_2_17_x86_64.manylinux2014_x86_64.whl (3.9 MB)\n",
            "\u001b[2K   \u001b[90m━━━━━━━━━━━━━━━━━━━━━━━━━━━━━━━━━━━━━━━━\u001b[0m \u001b[32m3.9/3.9 MB\u001b[0m \u001b[31m80.4 MB/s\u001b[0m eta \u001b[36m0:00:00\u001b[0m\n",
            "\u001b[?25hDownloading ruamel.yaml.clib-0.2.12-cp311-cp311-manylinux_2_17_x86_64.manylinux2014_x86_64.whl (739 kB)\n",
            "\u001b[2K   \u001b[90m━━━━━━━━━━━━━━━━━━━━━━━━━━━━━━━━━━━━━━━━\u001b[0m \u001b[32m739.1/739.1 kB\u001b[0m \u001b[31m52.7 MB/s\u001b[0m eta \u001b[36m0:00:00\u001b[0m\n",
            "\u001b[?25hBuilding wheels for collected packages: filterpy\n",
            "  Building wheel for filterpy (setup.py) ... \u001b[?25l\u001b[?25hdone\n",
            "  Created wheel for filterpy: filename=filterpy-1.4.5-py3-none-any.whl size=110460 sha256=9ef0c41ef194dcd6021b5ac2a090e082d08ccb57e8c20580c4746979d7dfb84c\n",
            "  Stored in directory: /root/.cache/pip/wheels/12/dc/3c/e12983eac132d00f82a20c6cbe7b42ce6e96190ef8fa2d15e1\n",
            "Successfully built filterpy\n",
            "Installing collected packages: ruamel.yaml.clib, nvidia-nvjitlink-cu12, nvidia-curand-cu12, nvidia-cufft-cu12, nvidia-cuda-runtime-cu12, nvidia-cuda-nvrtc-cu12, nvidia-cuda-cupti-cu12, nvidia-cublas-cu12, numpy, blosc2, ruamel.yaml, nvidia-cusparse-cu12, nvidia-cudnn-cu12, tables, nvidia-cusolver-cu12, matplotlib, dlclibrary, imgaug, filterpy, albumentations, deeplabcut\n",
            "  Attempting uninstall: nvidia-nvjitlink-cu12\n",
            "    Found existing installation: nvidia-nvjitlink-cu12 12.5.82\n",
            "    Uninstalling nvidia-nvjitlink-cu12-12.5.82:\n",
            "      Successfully uninstalled nvidia-nvjitlink-cu12-12.5.82\n",
            "  Attempting uninstall: nvidia-curand-cu12\n",
            "    Found existing installation: nvidia-curand-cu12 10.3.6.82\n",
            "    Uninstalling nvidia-curand-cu12-10.3.6.82:\n",
            "      Successfully uninstalled nvidia-curand-cu12-10.3.6.82\n",
            "  Attempting uninstall: nvidia-cufft-cu12\n",
            "    Found existing installation: nvidia-cufft-cu12 11.2.3.61\n",
            "    Uninstalling nvidia-cufft-cu12-11.2.3.61:\n",
            "      Successfully uninstalled nvidia-cufft-cu12-11.2.3.61\n",
            "  Attempting uninstall: nvidia-cuda-runtime-cu12\n",
            "    Found existing installation: nvidia-cuda-runtime-cu12 12.5.82\n",
            "    Uninstalling nvidia-cuda-runtime-cu12-12.5.82:\n",
            "      Successfully uninstalled nvidia-cuda-runtime-cu12-12.5.82\n",
            "  Attempting uninstall: nvidia-cuda-nvrtc-cu12\n",
            "    Found existing installation: nvidia-cuda-nvrtc-cu12 12.5.82\n",
            "    Uninstalling nvidia-cuda-nvrtc-cu12-12.5.82:\n",
            "      Successfully uninstalled nvidia-cuda-nvrtc-cu12-12.5.82\n",
            "  Attempting uninstall: nvidia-cuda-cupti-cu12\n",
            "    Found existing installation: nvidia-cuda-cupti-cu12 12.5.82\n",
            "    Uninstalling nvidia-cuda-cupti-cu12-12.5.82:\n",
            "      Successfully uninstalled nvidia-cuda-cupti-cu12-12.5.82\n",
            "  Attempting uninstall: nvidia-cublas-cu12\n",
            "    Found existing installation: nvidia-cublas-cu12 12.5.3.2\n",
            "    Uninstalling nvidia-cublas-cu12-12.5.3.2:\n",
            "      Successfully uninstalled nvidia-cublas-cu12-12.5.3.2\n",
            "  Attempting uninstall: numpy\n",
            "    Found existing installation: numpy 2.0.2\n",
            "    Uninstalling numpy-2.0.2:\n",
            "      Successfully uninstalled numpy-2.0.2\n",
            "  Attempting uninstall: blosc2\n",
            "    Found existing installation: blosc2 3.3.2\n",
            "    Uninstalling blosc2-3.3.2:\n",
            "      Successfully uninstalled blosc2-3.3.2\n",
            "  Attempting uninstall: nvidia-cusparse-cu12\n",
            "    Found existing installation: nvidia-cusparse-cu12 12.5.1.3\n",
            "    Uninstalling nvidia-cusparse-cu12-12.5.1.3:\n",
            "      Successfully uninstalled nvidia-cusparse-cu12-12.5.1.3\n",
            "  Attempting uninstall: nvidia-cudnn-cu12\n",
            "    Found existing installation: nvidia-cudnn-cu12 9.3.0.75\n",
            "    Uninstalling nvidia-cudnn-cu12-9.3.0.75:\n",
            "      Successfully uninstalled nvidia-cudnn-cu12-9.3.0.75\n",
            "  Attempting uninstall: tables\n",
            "    Found existing installation: tables 3.10.2\n",
            "    Uninstalling tables-3.10.2:\n",
            "      Successfully uninstalled tables-3.10.2\n",
            "  Attempting uninstall: nvidia-cusolver-cu12\n",
            "    Found existing installation: nvidia-cusolver-cu12 11.6.3.83\n",
            "    Uninstalling nvidia-cusolver-cu12-11.6.3.83:\n",
            "      Successfully uninstalled nvidia-cusolver-cu12-11.6.3.83\n",
            "  Attempting uninstall: matplotlib\n",
            "    Found existing installation: matplotlib 3.10.0\n",
            "    Uninstalling matplotlib-3.10.0:\n",
            "      Successfully uninstalled matplotlib-3.10.0\n",
            "  Attempting uninstall: albumentations\n",
            "    Found existing installation: albumentations 2.0.6\n",
            "    Uninstalling albumentations-2.0.6:\n",
            "      Successfully uninstalled albumentations-2.0.6\n",
            "\u001b[31mERROR: pip's dependency resolver does not currently take into account all the packages that are installed. This behaviour is the source of the following dependency conflicts.\n",
            "thinc 8.3.6 requires numpy<3.0.0,>=2.0.0, but you have numpy 1.26.4 which is incompatible.\u001b[0m\u001b[31m\n",
            "\u001b[0mSuccessfully installed albumentations-1.4.3 blosc2-2.0.0 deeplabcut-3.0.0rc8 dlclibrary-0.0.7 filterpy-1.4.5 imgaug-0.4.0 matplotlib-3.8.4 numpy-1.26.4 nvidia-cublas-cu12-12.4.5.8 nvidia-cuda-cupti-cu12-12.4.127 nvidia-cuda-nvrtc-cu12-12.4.127 nvidia-cuda-runtime-cu12-12.4.127 nvidia-cudnn-cu12-9.1.0.70 nvidia-cufft-cu12-11.2.1.3 nvidia-curand-cu12-10.3.5.147 nvidia-cusolver-cu12-11.6.1.9 nvidia-cusparse-cu12-12.3.1.170 nvidia-nvjitlink-cu12-12.4.127 ruamel.yaml-0.18.10 ruamel.yaml.clib-0.2.12 tables-3.8.0\n"
          ]
        },
        {
          "output_type": "display_data",
          "data": {
            "application/vnd.colab-display-data+json": {
              "pip_warning": {
                "packages": [
                  "matplotlib",
                  "mpl_toolkits"
                ]
              },
              "id": "a648556b46054cf9b2c1952b9467ac88"
            }
          },
          "metadata": {}
        }
      ],
      "source": [
        "# this will take a couple of minutes to install all the dependencies!\n",
        "!pip install --pre deeplabcut"
      ]
    },
    {
      "cell_type": "markdown",
      "metadata": {
        "id": "25wSj6TlVclR"
      },
      "source": [
        "**(Be sure to click \"RESTART RUNTIME\" if it is displayed above before moving on !)** You will see this button at the output of the cells above ^."
      ]
    },
    {
      "cell_type": "code",
      "execution_count": 1,
      "metadata": {
        "colab": {
          "base_uri": "https://localhost:8080/"
        },
        "id": "oTwAcbq2-FZz",
        "outputId": "bc89fc7d-53a3-40d8-d82c-32c8abe18288"
      },
      "outputs": [
        {
          "output_type": "stream",
          "name": "stdout",
          "text": [
            "Loading DLC 3.0.0rc8...\n",
            "DLC loaded in light mode; you cannot use any GUI (labeling, relabeling and standalone GUI)\n"
          ]
        }
      ],
      "source": [
        "import deeplabcut"
      ]
    },
    {
      "cell_type": "markdown",
      "metadata": {
        "id": "cQ-nlTkri4HZ"
      },
      "source": [
        "## Link your Google Drive (with your labeled data, or the demo data):\n",
        "\n",
        "### First, place your project folder into you google drive! \"i.e. move the folder named \"Project-YourName-TheDate\" into google drive."
      ]
    },
    {
      "cell_type": "code",
      "execution_count": 2,
      "metadata": {
        "id": "KS4Q4UkR9rgG",
        "outputId": "f2fe0185-1a4c-47d5-a28e-60022658fb2f",
        "colab": {
          "base_uri": "https://localhost:8080/"
        }
      },
      "outputs": [
        {
          "output_type": "stream",
          "name": "stdout",
          "text": [
            "Mounted at /content/drive\n"
          ]
        }
      ],
      "source": [
        "# Now, let's link to your GoogleDrive. Run this cell and follow the authorization instructions:\n",
        "# (We recommend putting a copy of the github repo in your google drive if you are using the demo \"examples\")\n",
        "\n",
        "from google.colab import drive\n",
        "\n",
        "drive.mount(\"/content/drive\")"
      ]
    },
    {
      "cell_type": "markdown",
      "metadata": {
        "id": "Frnj1RVDyEqs"
      },
      "source": [
        "YOU WILL NEED TO EDIT THE PROJECT PATH **in the config.yaml file** TO BE SET TO YOUR GOOGLE DRIVE LINK!\n",
        "\n",
        "Typically, this will be: `/content/drive/My Drive/yourProjectFolderName`\n"
      ]
    },
    {
      "cell_type": "code",
      "execution_count": 24,
      "metadata": {
        "id": "vhENAlQnFENJ",
        "outputId": "6820de4f-c102-4cf6-ac1f-2dfea924c488",
        "colab": {
          "base_uri": "https://localhost:8080/"
        }
      },
      "outputs": [
        {
          "output_type": "stream",
          "name": "stdout",
          "text": [
            "['/content/drive/My Drive/StairstepperTrial-AY-May5_2025/videos/']\n",
            "/content/drive/My Drive/StairstepperTrial-AY-May5_2025/config.yaml\n"
          ]
        }
      ],
      "source": [
        "# PLEASE EDIT THIS:\n",
        "project_folder_name = \"StairstepperTrial-AY-May5_2025\"\n",
        "video_type = \"mp4\" #, mp4, MOV, or avi, whatever you uploaded!\n",
        "\n",
        "# No need to edit this, we are going to assume you put videos you want to analyze\n",
        "# in the \"videos\" folder, but if this is NOT true, edit below:\n",
        "videofile_path = [f\"/content/drive/My Drive/{project_folder_name}/videos/\"]\n",
        "print(videofile_path)\n",
        "\n",
        "# The prediction files and labeled videos will be saved in this `labeled-videos` folder\n",
        "# in your project folder; if you want them elsewhere, you can edit this;\n",
        "# if you want the output files in the same folder as the videos, set this to an empty string.\n",
        "destfolder = f\"/content/drive/My Drive/{project_folder_name}/labeled-videos\"\n",
        "\n",
        "#No need to edit this, as you set it when you passed the ProjectFolderName (above):\n",
        "path_config_file = f\"/content/drive/My Drive/{project_folder_name}/config.yaml\"\n",
        "print(path_config_file)\n",
        "\n",
        "# This creates a path variable that links to your Google Drive project"
      ]
    },
    {
      "cell_type": "markdown",
      "metadata": {
        "id": "xNi9s1dboEJN"
      },
      "source": [
        "## Create a training dataset:\n",
        "\n",
        "### You must do this step inside of Colab\n",
        "\n",
        "After running this script the training dataset is created and saved in the project directory under the subdirectory **'training-datasets'**\n",
        "\n",
        "This function also creates new subdirectories under **dlc-models-pytorch** and appends the project config.yaml file with the correct path to the training and testing pose configuration file. These files hold the parameters for training the network. Such an example file is provided with the toolbox and named as **pytorch_config.yaml**.\n",
        "\n",
        "Now it is the time to start training the network!"
      ]
    },
    {
      "cell_type": "code",
      "execution_count": 25,
      "metadata": {
        "id": "eMeUwgxPoEJP",
        "scrolled": true,
        "outputId": "ea36e05c-5e3a-4ff7-ab44-8b7e394d64d9",
        "colab": {
          "base_uri": "https://localhost:8080/"
        }
      },
      "outputs": [
        {
          "output_type": "stream",
          "name": "stderr",
          "text": [
            "INFO:root:Default augmenter albumentations not available for engine Engine.PYTORCH: using albumentations instead\n"
          ]
        },
        {
          "output_type": "stream",
          "name": "stdout",
          "text": [
            "/content/drive/My Drive/StairstepperTrial-AY-May5_2025/labeled-data/IMG_1364/CollectedData_AY.h5  not found (perhaps not annotated).\n"
          ]
        },
        {
          "output_type": "execute_result",
          "data": {
            "text/plain": [
              "[(0.95,\n",
              "  9,\n",
              "  (array([12, 24,  3, 50,  5, 19, 27, 52,  1, 21, 22,  7, 28, 44, 18, 33,  6,\n",
              "          26, 32, 13, 11, 23, 49, 53, 40, 37, 54, 36, 16, 29, 34,  8, 35, 15,\n",
              "          10, 39,  0, 46, 25, 41,  9, 20, 17, 42, 47, 45,  2, 14, 43, 30, 48,\n",
              "          31]),\n",
              "   array([38,  4, 51])))]"
            ]
          },
          "metadata": {},
          "execution_count": 25
        }
      ],
      "source": [
        "# There are many more functions you can set here, including which network to use!\n",
        "# Check the docstring for `create_training_dataset` for all options you can use!\n",
        "\n",
        "deeplabcut.create_training_dataset(\n",
        "  path_config_file, net_type=\"resnet_50\", engine=deeplabcut.Engine.PYTORCH\n",
        ")"
      ]
    },
    {
      "cell_type": "markdown",
      "metadata": {
        "id": "c4FczXGDoEJU"
      },
      "source": [
        "## Start training:\n",
        "This function trains the network for a specific shuffle of the training dataset."
      ]
    },
    {
      "cell_type": "code",
      "execution_count": 5,
      "metadata": {
        "id": "_pOvDq_2oEJW",
        "outputId": "ac9f338f-504e-499b-e6c2-6632f35a2530",
        "colab": {
          "base_uri": "https://localhost:8080/",
          "height": 1000,
          "referenced_widgets": [
            "9fc02df6d69e4c1bb259c72422ff9d4e",
            "5613b3ca5390428a9da51bb079a76074",
            "dd1d831f8d0c40f9a88b9c1860c0725b",
            "ed28f936bb284a2fb571fb5e81e87bb9",
            "2760df9300a6415d88004c1eee02322c",
            "3eef7556735d43089e23cdb4e56651b8",
            "d84c0b46b73d4f20b28bc43c52a1a21e",
            "3b63df10b96645f6b665f39572802648",
            "95f66d948379477c8ff6b75b9994037c",
            "0d9c0a3e10c2418789466a7379849c2f",
            "8359d042f80747499e907c1988e22892"
          ]
        }
      },
      "outputs": [
        {
          "output_type": "stream",
          "name": "stderr",
          "text": [
            "Training with configuration:\n",
            "data:\n",
            "  bbox_margin: 20\n",
            "  colormode: RGB\n",
            "  inference:\n",
            "    normalize_images: True\n",
            "  train:\n",
            "    affine:\n",
            "      p: 0.5\n",
            "      rotation: 30\n",
            "      scaling: [0.5, 1.25]\n",
            "      translation: 0\n",
            "    crop_sampling:\n",
            "      width: 448\n",
            "      height: 448\n",
            "      max_shift: 0.1\n",
            "      method: hybrid\n",
            "    gaussian_noise: 12.75\n",
            "    motion_blur: True\n",
            "    normalize_images: True\n",
            "device: auto\n",
            "metadata:\n",
            "  project_path: C:\\Users\\yipal\\Desktop\\stairstepper test 1-AY-2025-05-02\n",
            "  pose_config_path: C:\\Users\\yipal\\Desktop\\stairstepper test 1-AY-2025-05-02\\dlc-models-pytorch\\iteration-0\\stairstepper test 1May2-trainset95shuffle1\\train\\pytorch_config.yaml\n",
            "  bodyparts: ['leftleg_upperknob', 'leftleg_lowerknob', 'leftpocket_bottom', 'leftpocket_top', 'leftknee_top', 'leftshoe_knot', 'leftknee_bottom', 'thighline_bottom', 'thighline_secbottom', 'thighline_top', 'thighline_sectop', 'thighline_middle']\n",
            "  unique_bodyparts: []\n",
            "  individuals: ['animal']\n",
            "  with_identity: None\n",
            "method: bu\n",
            "model:\n",
            "  backbone:\n",
            "    type: ResNet\n",
            "    model_name: resnet50_gn\n",
            "    output_stride: 16\n",
            "    freeze_bn_stats: False\n",
            "    freeze_bn_weights: False\n",
            "  backbone_output_channels: 2048\n",
            "  heads:\n",
            "    bodypart:\n",
            "      type: HeatmapHead\n",
            "      weight_init: normal\n",
            "      predictor:\n",
            "        type: HeatmapPredictor\n",
            "        apply_sigmoid: False\n",
            "        clip_scores: True\n",
            "        location_refinement: True\n",
            "        locref_std: 7.2801\n",
            "      target_generator:\n",
            "        type: HeatmapGaussianGenerator\n",
            "        num_heatmaps: 12\n",
            "        pos_dist_thresh: 17\n",
            "        heatmap_mode: KEYPOINT\n",
            "        gradient_masking: False\n",
            "        generate_locref: True\n",
            "        locref_std: 7.2801\n",
            "      criterion:\n",
            "        heatmap:\n",
            "          type: WeightedMSECriterion\n",
            "          weight: 1.0\n",
            "        locref:\n",
            "          type: WeightedHuberCriterion\n",
            "          weight: 0.05\n",
            "      heatmap_config:\n",
            "        channels: [2048, 12]\n",
            "        kernel_size: [3]\n",
            "        strides: [2]\n",
            "      locref_config:\n",
            "        channels: [2048, 24]\n",
            "        kernel_size: [3]\n",
            "        strides: [2]\n",
            "net_type: resnet_50\n",
            "runner:\n",
            "  type: PoseTrainingRunner\n",
            "  gpus: None\n",
            "  key_metric: test.mAP\n",
            "  key_metric_asc: True\n",
            "  eval_interval: 10\n",
            "  optimizer:\n",
            "    type: AdamW\n",
            "    params:\n",
            "      lr: 0.0005\n",
            "  scheduler:\n",
            "    type: LRListScheduler\n",
            "    params:\n",
            "      lr_list: [[0.0001], [1e-05]]\n",
            "      milestones: [90, 120]\n",
            "  snapshots:\n",
            "    max_snapshots: 5\n",
            "    save_epochs: 5\n",
            "    save_optimizer_state: False\n",
            "train_settings:\n",
            "  batch_size: 8\n",
            "  dataloader_workers: 0\n",
            "  dataloader_pin_memory: False\n",
            "  display_iters: 500\n",
            "  epochs: 200\n",
            "  seed: 42\n",
            "Loading pretrained weights from Hugging Face hub (timm/resnet50_gn.a1h_in1k)\n",
            "/usr/local/lib/python3.11/dist-packages/huggingface_hub/utils/_auth.py:94: UserWarning: \n",
            "The secret `HF_TOKEN` does not exist in your Colab secrets.\n",
            "To authenticate with the Hugging Face Hub, create a token in your settings tab (https://huggingface.co/settings/tokens), set it as secret in your Google Colab and restart your session.\n",
            "You will be able to reuse this secret in all of your notebooks.\n",
            "Please note that authentication is recommended but still optional to access public models or datasets.\n",
            "  warnings.warn(\n"
          ]
        },
        {
          "output_type": "display_data",
          "data": {
            "text/plain": [
              "model.safetensors:   0%|          | 0.00/102M [00:00<?, ?B/s]"
            ],
            "application/vnd.jupyter.widget-view+json": {
              "version_major": 2,
              "version_minor": 0,
              "model_id": "9fc02df6d69e4c1bb259c72422ff9d4e"
            }
          },
          "metadata": {}
        },
        {
          "output_type": "stream",
          "name": "stderr",
          "text": [
            "[timm/resnet50_gn.a1h_in1k] Safe alternative available for 'pytorch_model.bin' (as 'model.safetensors'). Loading weights using safetensors.\n",
            "Data Transforms:\n",
            "  Training:   Compose([\n",
            "  Affine(always_apply=False, p=0.5, interpolation=1, mask_interpolation=0, cval=0, mode=0, scale={'x': (0.5, 1.25), 'y': (0.5, 1.25)}, translate_percent=None, translate_px={'x': (0, 0), 'y': (0, 0)}, rotate=(-30, 30), fit_output=False, shear={'x': (0.0, 0.0), 'y': (0.0, 0.0)}, cval_mask=0, keep_ratio=True, rotate_method='largest_box'),\n",
            "  PadIfNeeded(always_apply=True, p=1.0, min_height=448, min_width=448, pad_height_divisor=None, pad_width_divisor=None, position=PositionType.CENTER, border_mode=0, value=None, mask_value=None),\n",
            "  KeypointAwareCrop(always_apply=True, p=1.0, width=448, height=448, max_shift=0.1, crop_sampling='hybrid'),\n",
            "  MotionBlur(always_apply=False, p=0.5, blur_limit=(3, 7), allow_shifted=True),\n",
            "  GaussNoise(always_apply=False, p=0.5, var_limit=(0, 162.5625), per_channel=True, mean=0),\n",
            "  Normalize(always_apply=False, p=1.0, mean=[0.485, 0.456, 0.406], std=[0.229, 0.224, 0.225], max_pixel_value=255.0),\n",
            "], p=1.0, bbox_params={'format': 'coco', 'label_fields': ['bbox_labels'], 'min_area': 0.0, 'min_visibility': 0.0, 'min_width': 0.0, 'min_height': 0.0, 'check_each_transform': True}, keypoint_params={'format': 'xy', 'label_fields': ['class_labels'], 'remove_invisible': False, 'angle_in_degrees': True, 'check_each_transform': True}, additional_targets={}, is_check_shapes=True)\n",
            "  Validation: Compose([\n",
            "  Normalize(always_apply=False, p=1.0, mean=[0.485, 0.456, 0.406], std=[0.229, 0.224, 0.225], max_pixel_value=255.0),\n",
            "], p=1.0, bbox_params={'format': 'coco', 'label_fields': ['bbox_labels'], 'min_area': 0.0, 'min_visibility': 0.0, 'min_width': 0.0, 'min_height': 0.0, 'check_each_transform': True}, keypoint_params={'format': 'xy', 'label_fields': ['class_labels'], 'remove_invisible': False, 'angle_in_degrees': True, 'check_each_transform': True}, additional_targets={}, is_check_shapes=True)\n",
            "Using 38 images and 2 for testing\n",
            "\n",
            "Starting pose model training...\n",
            "--------------------------------------------------\n",
            "Epoch 1/200 (lr=0.0005), train loss 0.01647\n",
            "Epoch 2/200 (lr=0.0005), train loss 0.01476\n",
            "Epoch 3/200 (lr=0.0005), train loss 0.01352\n",
            "Epoch 4/200 (lr=0.0005), train loss 0.01148\n",
            "Epoch 5/200 (lr=0.0005), train loss 0.01039\n",
            "Epoch 6/200 (lr=0.0005), train loss 0.00942\n",
            "Epoch 7/200 (lr=0.0005), train loss 0.00838\n",
            "Epoch 8/200 (lr=0.0005), train loss 0.00776\n",
            "Epoch 9/200 (lr=0.0005), train loss 0.00711\n",
            "Training for epoch 10 done, starting evaluation\n",
            "Epoch 10/200 (lr=0.0005), train loss 0.00720, valid loss 0.00526\n",
            "Model performance:\n",
            "  metrics/test.rmse:          78.20\n",
            "  metrics/test.rmse_pcutoff:   3.86\n",
            "  metrics/test.mAP:           65.15\n",
            "  metrics/test.mAR:           65.00\n",
            "Epoch 11/200 (lr=0.0005), train loss 0.00647\n",
            "Epoch 12/200 (lr=0.0005), train loss 0.00583\n",
            "Epoch 13/200 (lr=0.0005), train loss 0.00542\n",
            "Epoch 14/200 (lr=0.0005), train loss 0.00499\n",
            "Epoch 15/200 (lr=0.0005), train loss 0.00483\n",
            "Epoch 16/200 (lr=0.0005), train loss 0.00433\n",
            "Epoch 17/200 (lr=0.0005), train loss 0.00424\n",
            "Epoch 18/200 (lr=0.0005), train loss 0.00382\n",
            "Epoch 19/200 (lr=0.0005), train loss 0.00329\n",
            "Training for epoch 20 done, starting evaluation\n",
            "Epoch 20/200 (lr=0.0005), train loss 0.00355, valid loss 0.00272\n",
            "Model performance:\n",
            "  metrics/test.rmse:           4.45\n",
            "  metrics/test.rmse_pcutoff:   4.29\n",
            "  metrics/test.mAP:          100.00\n",
            "  metrics/test.mAR:          100.00\n",
            "Epoch 21/200 (lr=0.0005), train loss 0.00403\n",
            "Epoch 22/200 (lr=0.0005), train loss 0.00335\n",
            "Epoch 23/200 (lr=0.0005), train loss 0.00257\n",
            "Epoch 24/200 (lr=0.0005), train loss 0.00249\n",
            "Epoch 25/200 (lr=0.0005), train loss 0.00284\n",
            "Epoch 26/200 (lr=0.0005), train loss 0.00297\n",
            "Epoch 27/200 (lr=0.0005), train loss 0.00286\n",
            "Epoch 28/200 (lr=0.0005), train loss 0.00258\n",
            "Epoch 29/200 (lr=0.0005), train loss 0.00238\n",
            "Training for epoch 30 done, starting evaluation\n",
            "Epoch 30/200 (lr=0.0005), train loss 0.00233, valid loss 0.00156\n",
            "Model performance:\n",
            "  metrics/test.rmse:           2.83\n",
            "  metrics/test.rmse_pcutoff:   2.34\n",
            "  metrics/test.mAP:          100.00\n",
            "  metrics/test.mAR:          100.00\n",
            "Epoch 31/200 (lr=0.0005), train loss 0.00281\n",
            "Epoch 32/200 (lr=0.0005), train loss 0.00230\n",
            "Epoch 33/200 (lr=0.0005), train loss 0.00261\n",
            "Epoch 34/200 (lr=0.0005), train loss 0.00216\n",
            "Epoch 35/200 (lr=0.0005), train loss 0.00225\n",
            "Epoch 36/200 (lr=0.0005), train loss 0.00213\n",
            "Epoch 37/200 (lr=0.0005), train loss 0.00256\n",
            "Epoch 38/200 (lr=0.0005), train loss 0.00194\n",
            "Epoch 39/200 (lr=0.0005), train loss 0.00222\n",
            "Training for epoch 40 done, starting evaluation\n",
            "Epoch 40/200 (lr=0.0005), train loss 0.00202, valid loss 0.00214\n",
            "Model performance:\n",
            "  metrics/test.rmse:           3.84\n",
            "  metrics/test.rmse_pcutoff:   3.35\n",
            "  metrics/test.mAP:          100.00\n",
            "  metrics/test.mAR:          100.00\n",
            "Epoch 41/200 (lr=0.0005), train loss 0.00209\n",
            "Epoch 42/200 (lr=0.0005), train loss 0.00209\n",
            "Epoch 43/200 (lr=0.0005), train loss 0.00238\n",
            "Epoch 44/200 (lr=0.0005), train loss 0.00240\n",
            "Epoch 45/200 (lr=0.0005), train loss 0.00208\n",
            "Epoch 46/200 (lr=0.0005), train loss 0.00205\n",
            "Epoch 47/200 (lr=0.0005), train loss 0.00163\n",
            "Epoch 48/200 (lr=0.0005), train loss 0.00165\n",
            "Epoch 49/200 (lr=0.0005), train loss 0.00168\n",
            "Training for epoch 50 done, starting evaluation\n",
            "Epoch 50/200 (lr=0.0005), train loss 0.00140, valid loss 0.00141\n",
            "Model performance:\n",
            "  metrics/test.rmse:           2.86\n",
            "  metrics/test.rmse_pcutoff:   2.98\n",
            "  metrics/test.mAP:          100.00\n",
            "  metrics/test.mAR:          100.00\n",
            "Epoch 51/200 (lr=0.0005), train loss 0.00165\n",
            "Epoch 52/200 (lr=0.0005), train loss 0.00154\n",
            "Epoch 53/200 (lr=0.0005), train loss 0.00139\n",
            "Epoch 54/200 (lr=0.0005), train loss 0.00155\n",
            "Epoch 55/200 (lr=0.0005), train loss 0.00165\n",
            "Epoch 56/200 (lr=0.0005), train loss 0.00176\n",
            "Epoch 57/200 (lr=0.0005), train loss 0.00147\n",
            "Epoch 58/200 (lr=0.0005), train loss 0.00141\n",
            "Epoch 59/200 (lr=0.0005), train loss 0.00137\n",
            "Training for epoch 60 done, starting evaluation\n",
            "Epoch 60/200 (lr=0.0005), train loss 0.00134, valid loss 0.00106\n",
            "Model performance:\n",
            "  metrics/test.rmse:           2.41\n",
            "  metrics/test.rmse_pcutoff:   2.42\n",
            "  metrics/test.mAP:          100.00\n",
            "  metrics/test.mAR:          100.00\n",
            "Epoch 61/200 (lr=0.0005), train loss 0.00126\n",
            "Epoch 62/200 (lr=0.0005), train loss 0.00143\n",
            "Epoch 63/200 (lr=0.0005), train loss 0.00138\n",
            "Epoch 64/200 (lr=0.0005), train loss 0.00137\n",
            "Epoch 65/200 (lr=0.0005), train loss 0.00129\n",
            "Epoch 66/200 (lr=0.0005), train loss 0.00142\n",
            "Epoch 67/200 (lr=0.0005), train loss 0.00119\n",
            "Epoch 68/200 (lr=0.0005), train loss 0.00129\n",
            "Epoch 69/200 (lr=0.0005), train loss 0.00150\n",
            "Training for epoch 70 done, starting evaluation\n",
            "Epoch 70/200 (lr=0.0005), train loss 0.00140, valid loss 0.00093\n",
            "Model performance:\n",
            "  metrics/test.rmse:           2.75\n",
            "  metrics/test.rmse_pcutoff:   2.75\n",
            "  metrics/test.mAP:          100.00\n",
            "  metrics/test.mAR:          100.00\n",
            "Epoch 71/200 (lr=0.0005), train loss 0.00111\n",
            "Epoch 72/200 (lr=0.0005), train loss 0.00107\n",
            "Epoch 73/200 (lr=0.0005), train loss 0.00114\n",
            "Epoch 74/200 (lr=0.0005), train loss 0.00119\n",
            "Epoch 75/200 (lr=0.0005), train loss 0.00096\n",
            "Epoch 76/200 (lr=0.0005), train loss 0.00119\n",
            "Epoch 77/200 (lr=0.0005), train loss 0.00109\n",
            "Epoch 78/200 (lr=0.0005), train loss 0.00093\n",
            "Epoch 79/200 (lr=0.0005), train loss 0.00106\n",
            "Training for epoch 80 done, starting evaluation\n",
            "Epoch 80/200 (lr=0.0005), train loss 0.00125, valid loss 0.00073\n",
            "Model performance:\n",
            "  metrics/test.rmse:           2.18\n",
            "  metrics/test.rmse_pcutoff:   2.23\n",
            "  metrics/test.mAP:          100.00\n",
            "  metrics/test.mAR:          100.00\n",
            "Epoch 81/200 (lr=0.0005), train loss 0.00117\n",
            "Epoch 82/200 (lr=0.0005), train loss 0.00108\n",
            "Epoch 83/200 (lr=0.0005), train loss 0.00148\n",
            "Epoch 84/200 (lr=0.0005), train loss 0.00131\n",
            "Epoch 85/200 (lr=0.0005), train loss 0.00132\n",
            "Epoch 86/200 (lr=0.0005), train loss 0.00135\n",
            "Epoch 87/200 (lr=0.0005), train loss 0.00127\n",
            "Epoch 88/200 (lr=0.0005), train loss 0.00103\n",
            "Epoch 89/200 (lr=0.0005), train loss 0.00114\n",
            "Training for epoch 90 done, starting evaluation\n",
            "Epoch 90/200 (lr=0.0001), train loss 0.00091, valid loss 0.00099\n",
            "Model performance:\n",
            "  metrics/test.rmse:           2.53\n",
            "  metrics/test.rmse_pcutoff:   2.53\n",
            "  metrics/test.mAP:          100.00\n",
            "  metrics/test.mAR:          100.00\n",
            "Epoch 91/200 (lr=0.0001), train loss 0.00081\n",
            "Epoch 92/200 (lr=0.0001), train loss 0.00090\n",
            "Epoch 93/200 (lr=0.0001), train loss 0.00104\n",
            "Epoch 94/200 (lr=0.0001), train loss 0.00093\n",
            "Epoch 95/200 (lr=0.0001), train loss 0.00079\n",
            "Epoch 96/200 (lr=0.0001), train loss 0.00090\n",
            "Epoch 97/200 (lr=0.0001), train loss 0.00082\n",
            "Epoch 98/200 (lr=0.0001), train loss 0.00081\n",
            "Epoch 99/200 (lr=0.0001), train loss 0.00096\n",
            "Training for epoch 100 done, starting evaluation\n",
            "Epoch 100/200 (lr=0.0001), train loss 0.00067, valid loss 0.00079\n",
            "Model performance:\n",
            "  metrics/test.rmse:           2.21\n",
            "  metrics/test.rmse_pcutoff:   2.21\n",
            "  metrics/test.mAP:          100.00\n",
            "  metrics/test.mAR:          100.00\n",
            "Epoch 101/200 (lr=0.0001), train loss 0.00073\n",
            "Epoch 102/200 (lr=0.0001), train loss 0.00075\n",
            "Epoch 103/200 (lr=0.0001), train loss 0.00075\n",
            "Epoch 104/200 (lr=0.0001), train loss 0.00072\n",
            "Epoch 105/200 (lr=0.0001), train loss 0.00065\n",
            "Epoch 106/200 (lr=0.0001), train loss 0.00084\n",
            "Epoch 107/200 (lr=0.0001), train loss 0.00061\n",
            "Epoch 108/200 (lr=0.0001), train loss 0.00065\n",
            "Epoch 109/200 (lr=0.0001), train loss 0.00068\n",
            "Training for epoch 110 done, starting evaluation\n",
            "Epoch 110/200 (lr=0.0001), train loss 0.00057, valid loss 0.00059\n",
            "Model performance:\n",
            "  metrics/test.rmse:           1.90\n",
            "  metrics/test.rmse_pcutoff:   1.90\n",
            "  metrics/test.mAP:          100.00\n",
            "  metrics/test.mAR:          100.00\n",
            "Epoch 111/200 (lr=0.0001), train loss 0.00066\n",
            "Epoch 112/200 (lr=0.0001), train loss 0.00076\n",
            "Epoch 113/200 (lr=0.0001), train loss 0.00082\n",
            "Epoch 114/200 (lr=0.0001), train loss 0.00069\n",
            "Epoch 115/200 (lr=0.0001), train loss 0.00071\n",
            "Epoch 116/200 (lr=0.0001), train loss 0.00052\n",
            "Epoch 117/200 (lr=0.0001), train loss 0.00076\n",
            "Epoch 118/200 (lr=0.0001), train loss 0.00073\n",
            "Epoch 119/200 (lr=0.0001), train loss 0.00068\n",
            "Training for epoch 120 done, starting evaluation\n",
            "Epoch 120/200 (lr=1e-05), train loss 0.00065, valid loss 0.00067\n",
            "Model performance:\n",
            "  metrics/test.rmse:           1.91\n",
            "  metrics/test.rmse_pcutoff:   1.91\n",
            "  metrics/test.mAP:          100.00\n",
            "  metrics/test.mAR:          100.00\n",
            "Epoch 121/200 (lr=1e-05), train loss 0.00070\n",
            "Epoch 122/200 (lr=1e-05), train loss 0.00067\n",
            "Epoch 123/200 (lr=1e-05), train loss 0.00066\n",
            "Epoch 124/200 (lr=1e-05), train loss 0.00078\n",
            "Epoch 125/200 (lr=1e-05), train loss 0.00067\n",
            "Epoch 126/200 (lr=1e-05), train loss 0.00070\n",
            "Epoch 127/200 (lr=1e-05), train loss 0.00060\n",
            "Epoch 128/200 (lr=1e-05), train loss 0.00068\n",
            "Epoch 129/200 (lr=1e-05), train loss 0.00063\n",
            "Training for epoch 130 done, starting evaluation\n",
            "Epoch 130/200 (lr=1e-05), train loss 0.00059, valid loss 0.00071\n",
            "Model performance:\n",
            "  metrics/test.rmse:           2.07\n",
            "  metrics/test.rmse_pcutoff:   2.07\n",
            "  metrics/test.mAP:          100.00\n",
            "  metrics/test.mAR:          100.00\n",
            "Epoch 131/200 (lr=1e-05), train loss 0.00079\n",
            "Epoch 132/200 (lr=1e-05), train loss 0.00064\n",
            "Epoch 133/200 (lr=1e-05), train loss 0.00066\n",
            "Epoch 134/200 (lr=1e-05), train loss 0.00065\n",
            "Epoch 135/200 (lr=1e-05), train loss 0.00075\n",
            "Epoch 136/200 (lr=1e-05), train loss 0.00059\n",
            "Epoch 137/200 (lr=1e-05), train loss 0.00060\n",
            "Epoch 138/200 (lr=1e-05), train loss 0.00067\n",
            "Epoch 139/200 (lr=1e-05), train loss 0.00069\n",
            "Training for epoch 140 done, starting evaluation\n",
            "Epoch 140/200 (lr=1e-05), train loss 0.00064, valid loss 0.00072\n",
            "Model performance:\n",
            "  metrics/test.rmse:           2.10\n",
            "  metrics/test.rmse_pcutoff:   2.10\n",
            "  metrics/test.mAP:          100.00\n",
            "  metrics/test.mAR:          100.00\n",
            "Epoch 141/200 (lr=1e-05), train loss 0.00059\n",
            "Epoch 142/200 (lr=1e-05), train loss 0.00059\n",
            "Epoch 143/200 (lr=1e-05), train loss 0.00051\n",
            "Epoch 144/200 (lr=1e-05), train loss 0.00061\n",
            "Epoch 145/200 (lr=1e-05), train loss 0.00066\n",
            "Epoch 146/200 (lr=1e-05), train loss 0.00057\n",
            "Epoch 147/200 (lr=1e-05), train loss 0.00067\n",
            "Epoch 148/200 (lr=1e-05), train loss 0.00091\n",
            "Epoch 149/200 (lr=1e-05), train loss 0.00074\n",
            "Training for epoch 150 done, starting evaluation\n",
            "Epoch 150/200 (lr=1e-05), train loss 0.00068, valid loss 0.00070\n",
            "Model performance:\n",
            "  metrics/test.rmse:           2.00\n",
            "  metrics/test.rmse_pcutoff:   2.00\n",
            "  metrics/test.mAP:          100.00\n",
            "  metrics/test.mAR:          100.00\n",
            "Epoch 151/200 (lr=1e-05), train loss 0.00060\n",
            "Epoch 152/200 (lr=1e-05), train loss 0.00056\n",
            "Epoch 153/200 (lr=1e-05), train loss 0.00081\n",
            "Epoch 154/200 (lr=1e-05), train loss 0.00049\n",
            "Epoch 155/200 (lr=1e-05), train loss 0.00051\n",
            "Epoch 156/200 (lr=1e-05), train loss 0.00068\n",
            "Epoch 157/200 (lr=1e-05), train loss 0.00066\n",
            "Epoch 158/200 (lr=1e-05), train loss 0.00080\n",
            "Epoch 159/200 (lr=1e-05), train loss 0.00062\n",
            "Training for epoch 160 done, starting evaluation\n",
            "Epoch 160/200 (lr=1e-05), train loss 0.00066, valid loss 0.00074\n",
            "Model performance:\n",
            "  metrics/test.rmse:           2.03\n",
            "  metrics/test.rmse_pcutoff:   2.03\n",
            "  metrics/test.mAP:          100.00\n",
            "  metrics/test.mAR:          100.00\n",
            "Epoch 161/200 (lr=1e-05), train loss 0.00059\n",
            "Epoch 162/200 (lr=1e-05), train loss 0.00074\n",
            "Epoch 163/200 (lr=1e-05), train loss 0.00063\n",
            "Epoch 164/200 (lr=1e-05), train loss 0.00059\n",
            "Epoch 165/200 (lr=1e-05), train loss 0.00071\n",
            "Epoch 166/200 (lr=1e-05), train loss 0.00069\n",
            "Epoch 167/200 (lr=1e-05), train loss 0.00076\n",
            "Epoch 168/200 (lr=1e-05), train loss 0.00061\n",
            "Epoch 169/200 (lr=1e-05), train loss 0.00065\n",
            "Training for epoch 170 done, starting evaluation\n",
            "Epoch 170/200 (lr=1e-05), train loss 0.00054, valid loss 0.00069\n",
            "Model performance:\n",
            "  metrics/test.rmse:           1.98\n",
            "  metrics/test.rmse_pcutoff:   1.98\n",
            "  metrics/test.mAP:          100.00\n",
            "  metrics/test.mAR:          100.00\n",
            "Epoch 171/200 (lr=1e-05), train loss 0.00054\n",
            "Epoch 172/200 (lr=1e-05), train loss 0.00059\n",
            "Epoch 173/200 (lr=1e-05), train loss 0.00066\n",
            "Epoch 174/200 (lr=1e-05), train loss 0.00055\n",
            "Epoch 175/200 (lr=1e-05), train loss 0.00064\n",
            "Epoch 176/200 (lr=1e-05), train loss 0.00058\n",
            "Epoch 177/200 (lr=1e-05), train loss 0.00047\n",
            "Epoch 178/200 (lr=1e-05), train loss 0.00072\n",
            "Epoch 179/200 (lr=1e-05), train loss 0.00074\n",
            "Training for epoch 180 done, starting evaluation\n",
            "Epoch 180/200 (lr=1e-05), train loss 0.00057, valid loss 0.00071\n",
            "Model performance:\n",
            "  metrics/test.rmse:           2.00\n",
            "  metrics/test.rmse_pcutoff:   2.00\n",
            "  metrics/test.mAP:          100.00\n",
            "  metrics/test.mAR:          100.00\n",
            "Epoch 181/200 (lr=1e-05), train loss 0.00052\n",
            "Epoch 182/200 (lr=1e-05), train loss 0.00067\n",
            "Epoch 183/200 (lr=1e-05), train loss 0.00054\n",
            "Epoch 184/200 (lr=1e-05), train loss 0.00046\n",
            "Epoch 185/200 (lr=1e-05), train loss 0.00055\n",
            "Epoch 186/200 (lr=1e-05), train loss 0.00059\n",
            "Epoch 187/200 (lr=1e-05), train loss 0.00064\n",
            "Epoch 188/200 (lr=1e-05), train loss 0.00066\n",
            "Epoch 189/200 (lr=1e-05), train loss 0.00068\n",
            "Training for epoch 190 done, starting evaluation\n",
            "Epoch 190/200 (lr=1e-05), train loss 0.00060, valid loss 0.00072\n",
            "Model performance:\n",
            "  metrics/test.rmse:           2.01\n",
            "  metrics/test.rmse_pcutoff:   2.01\n",
            "  metrics/test.mAP:          100.00\n",
            "  metrics/test.mAR:          100.00\n",
            "Epoch 191/200 (lr=1e-05), train loss 0.00072\n",
            "Epoch 192/200 (lr=1e-05), train loss 0.00064\n",
            "Epoch 193/200 (lr=1e-05), train loss 0.00063\n",
            "Epoch 194/200 (lr=1e-05), train loss 0.00070\n",
            "Epoch 195/200 (lr=1e-05), train loss 0.00057\n",
            "Epoch 196/200 (lr=1e-05), train loss 0.00060\n",
            "Epoch 197/200 (lr=1e-05), train loss 0.00077\n",
            "Epoch 198/200 (lr=1e-05), train loss 0.00065\n",
            "Epoch 199/200 (lr=1e-05), train loss 0.00050\n",
            "Training for epoch 200 done, starting evaluation\n",
            "Epoch 200/200 (lr=1e-05), train loss 0.00074, valid loss 0.00072\n",
            "Model performance:\n",
            "  metrics/test.rmse:           2.03\n",
            "  metrics/test.rmse_pcutoff:   2.03\n",
            "  metrics/test.mAP:          100.00\n",
            "  metrics/test.mAR:          100.00\n"
          ]
        }
      ],
      "source": [
        "# Let's also change the display and save_epochs just in case Colab takes away\n",
        "# the GPU... If that happens, you can reload from a saved point using the\n",
        "# `snapshot_path` argument to `deeplabcut.train_network`:\n",
        "#   deeplabcut.train_network(..., snapshot_path=\"/content/.../snapshot-050.pt\")\n",
        "\n",
        "# Typically, you want to train to ~200 epochs. We set the batch size to 8 to\n",
        "# utilize the GPU's capabilities.\n",
        "\n",
        "# More info and there are more things you can set:\n",
        "#   https://deeplabcut.github.io/DeepLabCut/docs/standardDeepLabCut_UserGuide.html#g-train-the-network\n",
        "\n",
        "deeplabcut.train_network(\n",
        "    path_config_file,\n",
        "    shuffle=1,\n",
        "    save_epochs=5,\n",
        "    epochs=200,\n",
        "    batch_size=8,\n",
        ")\n",
        "\n",
        "# This will run until you stop it (CTRL+C), or hit \"STOP\" icon, or when it hits the end."
      ]
    },
    {
      "cell_type": "markdown",
      "metadata": {
        "id": "RiDwIVf5-3H_"
      },
      "source": [
        "Note, that **when you hit \"STOP\" you will get a `KeyboardInterrupt` \"error\"! No worries! :)**"
      ]
    },
    {
      "cell_type": "markdown",
      "metadata": {
        "id": "xZygsb2DoEJc"
      },
      "source": [
        "## Start evaluating:\n",
        "This function evaluates a trained model for a specific shuffle/shuffles at a particular state or all the states on the data set (images)\n",
        "and stores the results as .csv file in a subdirectory under **evaluation-results-pytorch**"
      ]
    },
    {
      "cell_type": "code",
      "execution_count": 6,
      "metadata": {
        "colab": {
          "base_uri": "https://localhost:8080/"
        },
        "id": "nv4zlbrnoEJg",
        "outputId": "98500b15-bec6-4459-ee2a-a8906f34550f"
      },
      "outputs": [
        {
          "output_type": "stream",
          "name": "stderr",
          "text": [
            "100%|██████████| 38/38 [00:05<00:00,  6.53it/s]\n",
            "100%|██████████| 2/2 [00:00<00:00,  7.04it/s]\n"
          ]
        },
        {
          "output_type": "stream",
          "name": "stdout",
          "text": [
            "Evaluation results for DLC_Resnet50_stairstepper test 1May2shuffle1_snapshot_020-results.csv (pcutoff: 0.6):\n",
            "train rmse              6.78\n",
            "train rmse_pcutoff      4.21\n",
            "train mAP              97.70\n",
            "train mAR              98.16\n",
            "test rmse               4.45\n",
            "test rmse_pcutoff       4.29\n",
            "test mAP              100.00\n",
            "test mAR              100.00\n",
            "Name: (0.95, 1, 20, -1, 0.6), dtype: float64\n"
          ]
        }
      ],
      "source": [
        "deeplabcut.evaluate_network(path_config_file, plotting=True)\n",
        "\n",
        "# Here you want to see a low pixel error! Of course, it can only be as\n",
        "# good as the labeler, so be sure your labels are good!\n"
      ]
    },
    {
      "cell_type": "markdown",
      "metadata": {
        "id": "BaLBl3TQtrfB"
      },
      "source": [
        "## There is an optional refinement step you can do outside of Colab:\n",
        "- if your pixel errors are not low enough, please check out the protocol guide on how to refine your network!\n",
        "- You will need to adjust the labels **outside of Colab!** We recommend coming back to train and analyze videos...\n",
        "- Please see the repo and protocol instructions on how to refine your data!"
      ]
    },
    {
      "cell_type": "markdown",
      "metadata": {
        "id": "OVFLSKKfoEJk"
      },
      "source": [
        "## Start Analyzing videos:\n",
        "This function analyzes the new video. The user can choose the best model from the evaluation results and specify the correct snapshot index for the variable **snapshotindex** in the **config.yaml** file. Otherwise, by default the most recent snapshot is used to analyse the video.\n",
        "\n",
        "The results are stored in hd5 file in the same directory where the video resides."
      ]
    },
    {
      "cell_type": "code",
      "execution_count": 40,
      "metadata": {
        "id": "Y_LZiS_0oEJl",
        "outputId": "310ad1af-958d-4aea-8296-bff4920ee2ee",
        "colab": {
          "base_uri": "https://localhost:8080/",
          "height": 322
        }
      },
      "outputs": [
        {
          "output_type": "stream",
          "name": "stdout",
          "text": [
            "Analyzing videos with /content/drive/My Drive/StairstepperTrial-AY-May5_2025/dlc-models-pytorch/iteration-0/stairstepper test 1May2-trainset95shuffle1/train/snapshot-best-020.pt\n",
            "Starting to analyze /content/drive/My Drive/StairstepperTrial-AY-May5_2025/videos/toanalyze/IMG_1369.MP4\n",
            "Video metadata: \n",
            "  Overall # of frames:    352\n",
            "  Duration of video [s]:  11.73\n",
            "  fps:                    30.0\n",
            "  resolution:             w=1280, h=720\n",
            "\n",
            "Running pose prediction with batch size 8\n"
          ]
        },
        {
          "output_type": "stream",
          "name": "stderr",
          "text": [
            "100%|██████████| 352/352 [00:48<00:00,  7.27it/s]"
          ]
        },
        {
          "output_type": "stream",
          "name": "stdout",
          "text": [
            "Saving results in /content/drive/My Drive/StairstepperTrial-AY-May5_2025/labeled-videos/IMG_1369DLC_Resnet50_stairstepper test 1May2shuffle1_snapshot_020.h5 and /content/drive/My Drive/StairstepperTrial-AY-May5_2025/labeled-videos/IMG_1369DLC_Resnet50_stairstepper test 1May2shuffle1_snapshot_020_full.pickle\n",
            "The videos are analyzed. Now your research can truly start!\n",
            "You can create labeled videos with 'create_labeled_video'.\n",
            "If the tracking is not satisfactory for some videos, consider expanding the training set. You can use the function 'extract_outlier_frames' to extract a few representative outlier frames.\n",
            "\n"
          ]
        },
        {
          "output_type": "stream",
          "name": "stderr",
          "text": [
            "\n"
          ]
        },
        {
          "output_type": "execute_result",
          "data": {
            "text/plain": [
              "'DLC_Resnet50_stairstepper test 1May2shuffle1_snapshot_020'"
            ],
            "application/vnd.google.colaboratory.intrinsic+json": {
              "type": "string"
            }
          },
          "metadata": {},
          "execution_count": 40
        }
      ],
      "source": [
        "deeplabcut.analyze_videos(\n",
        "    path_config_file,\n",
        "    ['/content/drive/My Drive/StairstepperTrial-AY-May5_2025/videos/toanalyze/IMG_1369.MP4'],\n",
        "    videotype='MP4',\n",
        "    destfolder=destfolder,\n",
        ")"
      ]
    },
    {
      "cell_type": "markdown",
      "metadata": {
        "id": "8GTiuJESoEKH"
      },
      "source": [
        "## Plot the trajectories of the analyzed videos:\n",
        "This function plots the trajectories of all the body parts across the entire video. Each body part is identified by a unique color."
      ]
    },
    {
      "cell_type": "code",
      "execution_count": 42,
      "metadata": {
        "id": "gX21zZbXoEKJ",
        "outputId": "c6f2778d-0d69-4a76-85a3-7b9af5e57daf",
        "colab": {
          "base_uri": "https://localhost:8080/"
        }
      },
      "outputs": [
        {
          "output_type": "stream",
          "name": "stdout",
          "text": [
            "Loading  /content/drive/My Drive/StairstepperTrial-AY-May5_2025/videos/toanalyze/IMG_1369.MP4 and data.\n",
            "Plots created! Please check the directory \"plot-poses\" within the video directory\n"
          ]
        }
      ],
      "source": [
        "deeplabcut.plot_trajectories(\n",
        "    path_config_file,\n",
        "    ['/content/drive/My Drive/StairstepperTrial-AY-May5_2025/videos/toanalyze/IMG_1369.MP4'],\n",
        "    videotype='MP4',\n",
        "    destfolder=destfolder,\n",
        ")"
      ]
    },
    {
      "cell_type": "markdown",
      "metadata": {
        "id": "pqaCw15v8EmB"
      },
      "source": [
        "Now you can look at the plot-poses file and check the \"plot-likelihood.png\" might want to change the \"p-cutoff\" in the config.yaml file so that you have only high confidnece points plotted in the video. i.e. ~0.8 or 0.9. The current default is 0.4."
      ]
    },
    {
      "cell_type": "markdown",
      "metadata": {
        "id": "pCrUvQIvoEKD"
      },
      "source": [
        "## Create labeled video:\n",
        "This function is for visualiztion purpose and can be used to create a video in .mp4 format with labels predicted by the network. This video is saved in the same directory where the original video resides."
      ]
    },
    {
      "cell_type": "code",
      "execution_count": 43,
      "metadata": {
        "id": "6aDF7Q7KoEKE",
        "outputId": "e18a242e-0125-4949-add8-59de5fcd81fb",
        "colab": {
          "base_uri": "https://localhost:8080/"
        }
      },
      "outputs": [
        {
          "output_type": "stream",
          "name": "stdout",
          "text": [
            "Starting to process video: /content/drive/My Drive/StairstepperTrial-AY-May5_2025/videos/toanalyze/IMG_1369.MP4\n",
            "Loading /content/drive/My Drive/StairstepperTrial-AY-May5_2025/videos/toanalyze/IMG_1369.MP4 and data.\n",
            "Duration of video [s]: 11.73, recorded with 30.0 fps!\n",
            "Overall # of frames: 352 with cropped frame dimensions: 1280 720\n",
            "Generating frames and creating video.\n"
          ]
        },
        {
          "output_type": "stream",
          "name": "stderr",
          "text": [
            "100%|██████████| 352/352 [00:05<00:00, 66.50it/s]\n"
          ]
        },
        {
          "output_type": "execute_result",
          "data": {
            "text/plain": [
              "[True]"
            ]
          },
          "metadata": {},
          "execution_count": 43
        }
      ],
      "source": [
        "deeplabcut.create_labeled_video(\n",
        "    path_config_file,\n",
        "    ['/content/drive/My Drive/StairstepperTrial-AY-May5_2025/videos/toanalyze/IMG_1369.MP4'],\n",
        "    videotype='MP4',\n",
        "    destfolder=destfolder,\n",
        ")"
      ]
    }
  ],
  "metadata": {
    "accelerator": "GPU",
    "colab": {
      "name": "Copy of latest_Colab_TrainNetwork_VideoAnalysis.ipynb",
      "provenance": [],
      "toc_visible": true,
      "include_colab_link": true
    },
    "kernelspec": {
      "display_name": "Python 3.8.12 ('dlc')",
      "language": "python",
      "name": "python3"
    },
    "language_info": {
      "name": "python",
      "version": "3.8.12"
    },
    "vscode": {
      "interpreter": {
        "hash": "70cad038f2bddb56e8a0ba66c48b76ebce20579892bf83e71733a81977e3ceea"
      }
    },
    "widgets": {
      "application/vnd.jupyter.widget-state+json": {
        "9fc02df6d69e4c1bb259c72422ff9d4e": {
          "model_module": "@jupyter-widgets/controls",
          "model_name": "HBoxModel",
          "model_module_version": "1.5.0",
          "state": {
            "_dom_classes": [],
            "_model_module": "@jupyter-widgets/controls",
            "_model_module_version": "1.5.0",
            "_model_name": "HBoxModel",
            "_view_count": null,
            "_view_module": "@jupyter-widgets/controls",
            "_view_module_version": "1.5.0",
            "_view_name": "HBoxView",
            "box_style": "",
            "children": [
              "IPY_MODEL_5613b3ca5390428a9da51bb079a76074",
              "IPY_MODEL_dd1d831f8d0c40f9a88b9c1860c0725b",
              "IPY_MODEL_ed28f936bb284a2fb571fb5e81e87bb9"
            ],
            "layout": "IPY_MODEL_2760df9300a6415d88004c1eee02322c"
          }
        },
        "5613b3ca5390428a9da51bb079a76074": {
          "model_module": "@jupyter-widgets/controls",
          "model_name": "HTMLModel",
          "model_module_version": "1.5.0",
          "state": {
            "_dom_classes": [],
            "_model_module": "@jupyter-widgets/controls",
            "_model_module_version": "1.5.0",
            "_model_name": "HTMLModel",
            "_view_count": null,
            "_view_module": "@jupyter-widgets/controls",
            "_view_module_version": "1.5.0",
            "_view_name": "HTMLView",
            "description": "",
            "description_tooltip": null,
            "layout": "IPY_MODEL_3eef7556735d43089e23cdb4e56651b8",
            "placeholder": "​",
            "style": "IPY_MODEL_d84c0b46b73d4f20b28bc43c52a1a21e",
            "value": "model.safetensors: 100%"
          }
        },
        "dd1d831f8d0c40f9a88b9c1860c0725b": {
          "model_module": "@jupyter-widgets/controls",
          "model_name": "FloatProgressModel",
          "model_module_version": "1.5.0",
          "state": {
            "_dom_classes": [],
            "_model_module": "@jupyter-widgets/controls",
            "_model_module_version": "1.5.0",
            "_model_name": "FloatProgressModel",
            "_view_count": null,
            "_view_module": "@jupyter-widgets/controls",
            "_view_module_version": "1.5.0",
            "_view_name": "ProgressView",
            "bar_style": "success",
            "description": "",
            "description_tooltip": null,
            "layout": "IPY_MODEL_3b63df10b96645f6b665f39572802648",
            "max": 102242522,
            "min": 0,
            "orientation": "horizontal",
            "style": "IPY_MODEL_95f66d948379477c8ff6b75b9994037c",
            "value": 102242522
          }
        },
        "ed28f936bb284a2fb571fb5e81e87bb9": {
          "model_module": "@jupyter-widgets/controls",
          "model_name": "HTMLModel",
          "model_module_version": "1.5.0",
          "state": {
            "_dom_classes": [],
            "_model_module": "@jupyter-widgets/controls",
            "_model_module_version": "1.5.0",
            "_model_name": "HTMLModel",
            "_view_count": null,
            "_view_module": "@jupyter-widgets/controls",
            "_view_module_version": "1.5.0",
            "_view_name": "HTMLView",
            "description": "",
            "description_tooltip": null,
            "layout": "IPY_MODEL_0d9c0a3e10c2418789466a7379849c2f",
            "placeholder": "​",
            "style": "IPY_MODEL_8359d042f80747499e907c1988e22892",
            "value": " 102M/102M [00:00&lt;00:00, 334MB/s]"
          }
        },
        "2760df9300a6415d88004c1eee02322c": {
          "model_module": "@jupyter-widgets/base",
          "model_name": "LayoutModel",
          "model_module_version": "1.2.0",
          "state": {
            "_model_module": "@jupyter-widgets/base",
            "_model_module_version": "1.2.0",
            "_model_name": "LayoutModel",
            "_view_count": null,
            "_view_module": "@jupyter-widgets/base",
            "_view_module_version": "1.2.0",
            "_view_name": "LayoutView",
            "align_content": null,
            "align_items": null,
            "align_self": null,
            "border": null,
            "bottom": null,
            "display": null,
            "flex": null,
            "flex_flow": null,
            "grid_area": null,
            "grid_auto_columns": null,
            "grid_auto_flow": null,
            "grid_auto_rows": null,
            "grid_column": null,
            "grid_gap": null,
            "grid_row": null,
            "grid_template_areas": null,
            "grid_template_columns": null,
            "grid_template_rows": null,
            "height": null,
            "justify_content": null,
            "justify_items": null,
            "left": null,
            "margin": null,
            "max_height": null,
            "max_width": null,
            "min_height": null,
            "min_width": null,
            "object_fit": null,
            "object_position": null,
            "order": null,
            "overflow": null,
            "overflow_x": null,
            "overflow_y": null,
            "padding": null,
            "right": null,
            "top": null,
            "visibility": null,
            "width": null
          }
        },
        "3eef7556735d43089e23cdb4e56651b8": {
          "model_module": "@jupyter-widgets/base",
          "model_name": "LayoutModel",
          "model_module_version": "1.2.0",
          "state": {
            "_model_module": "@jupyter-widgets/base",
            "_model_module_version": "1.2.0",
            "_model_name": "LayoutModel",
            "_view_count": null,
            "_view_module": "@jupyter-widgets/base",
            "_view_module_version": "1.2.0",
            "_view_name": "LayoutView",
            "align_content": null,
            "align_items": null,
            "align_self": null,
            "border": null,
            "bottom": null,
            "display": null,
            "flex": null,
            "flex_flow": null,
            "grid_area": null,
            "grid_auto_columns": null,
            "grid_auto_flow": null,
            "grid_auto_rows": null,
            "grid_column": null,
            "grid_gap": null,
            "grid_row": null,
            "grid_template_areas": null,
            "grid_template_columns": null,
            "grid_template_rows": null,
            "height": null,
            "justify_content": null,
            "justify_items": null,
            "left": null,
            "margin": null,
            "max_height": null,
            "max_width": null,
            "min_height": null,
            "min_width": null,
            "object_fit": null,
            "object_position": null,
            "order": null,
            "overflow": null,
            "overflow_x": null,
            "overflow_y": null,
            "padding": null,
            "right": null,
            "top": null,
            "visibility": null,
            "width": null
          }
        },
        "d84c0b46b73d4f20b28bc43c52a1a21e": {
          "model_module": "@jupyter-widgets/controls",
          "model_name": "DescriptionStyleModel",
          "model_module_version": "1.5.0",
          "state": {
            "_model_module": "@jupyter-widgets/controls",
            "_model_module_version": "1.5.0",
            "_model_name": "DescriptionStyleModel",
            "_view_count": null,
            "_view_module": "@jupyter-widgets/base",
            "_view_module_version": "1.2.0",
            "_view_name": "StyleView",
            "description_width": ""
          }
        },
        "3b63df10b96645f6b665f39572802648": {
          "model_module": "@jupyter-widgets/base",
          "model_name": "LayoutModel",
          "model_module_version": "1.2.0",
          "state": {
            "_model_module": "@jupyter-widgets/base",
            "_model_module_version": "1.2.0",
            "_model_name": "LayoutModel",
            "_view_count": null,
            "_view_module": "@jupyter-widgets/base",
            "_view_module_version": "1.2.0",
            "_view_name": "LayoutView",
            "align_content": null,
            "align_items": null,
            "align_self": null,
            "border": null,
            "bottom": null,
            "display": null,
            "flex": null,
            "flex_flow": null,
            "grid_area": null,
            "grid_auto_columns": null,
            "grid_auto_flow": null,
            "grid_auto_rows": null,
            "grid_column": null,
            "grid_gap": null,
            "grid_row": null,
            "grid_template_areas": null,
            "grid_template_columns": null,
            "grid_template_rows": null,
            "height": null,
            "justify_content": null,
            "justify_items": null,
            "left": null,
            "margin": null,
            "max_height": null,
            "max_width": null,
            "min_height": null,
            "min_width": null,
            "object_fit": null,
            "object_position": null,
            "order": null,
            "overflow": null,
            "overflow_x": null,
            "overflow_y": null,
            "padding": null,
            "right": null,
            "top": null,
            "visibility": null,
            "width": null
          }
        },
        "95f66d948379477c8ff6b75b9994037c": {
          "model_module": "@jupyter-widgets/controls",
          "model_name": "ProgressStyleModel",
          "model_module_version": "1.5.0",
          "state": {
            "_model_module": "@jupyter-widgets/controls",
            "_model_module_version": "1.5.0",
            "_model_name": "ProgressStyleModel",
            "_view_count": null,
            "_view_module": "@jupyter-widgets/base",
            "_view_module_version": "1.2.0",
            "_view_name": "StyleView",
            "bar_color": null,
            "description_width": ""
          }
        },
        "0d9c0a3e10c2418789466a7379849c2f": {
          "model_module": "@jupyter-widgets/base",
          "model_name": "LayoutModel",
          "model_module_version": "1.2.0",
          "state": {
            "_model_module": "@jupyter-widgets/base",
            "_model_module_version": "1.2.0",
            "_model_name": "LayoutModel",
            "_view_count": null,
            "_view_module": "@jupyter-widgets/base",
            "_view_module_version": "1.2.0",
            "_view_name": "LayoutView",
            "align_content": null,
            "align_items": null,
            "align_self": null,
            "border": null,
            "bottom": null,
            "display": null,
            "flex": null,
            "flex_flow": null,
            "grid_area": null,
            "grid_auto_columns": null,
            "grid_auto_flow": null,
            "grid_auto_rows": null,
            "grid_column": null,
            "grid_gap": null,
            "grid_row": null,
            "grid_template_areas": null,
            "grid_template_columns": null,
            "grid_template_rows": null,
            "height": null,
            "justify_content": null,
            "justify_items": null,
            "left": null,
            "margin": null,
            "max_height": null,
            "max_width": null,
            "min_height": null,
            "min_width": null,
            "object_fit": null,
            "object_position": null,
            "order": null,
            "overflow": null,
            "overflow_x": null,
            "overflow_y": null,
            "padding": null,
            "right": null,
            "top": null,
            "visibility": null,
            "width": null
          }
        },
        "8359d042f80747499e907c1988e22892": {
          "model_module": "@jupyter-widgets/controls",
          "model_name": "DescriptionStyleModel",
          "model_module_version": "1.5.0",
          "state": {
            "_model_module": "@jupyter-widgets/controls",
            "_model_module_version": "1.5.0",
            "_model_name": "DescriptionStyleModel",
            "_view_count": null,
            "_view_module": "@jupyter-widgets/base",
            "_view_module_version": "1.2.0",
            "_view_name": "StyleView",
            "description_width": ""
          }
        }
      }
    }
  },
  "nbformat": 4,
  "nbformat_minor": 0
}